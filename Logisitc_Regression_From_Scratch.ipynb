{
  "nbformat": 4,
  "nbformat_minor": 0,
  "metadata": {
    "kernelspec": {
      "display_name": "Python 3",
      "language": "python",
      "name": "python3"
    },
    "language_info": {
      "codemirror_mode": {
        "name": "ipython",
        "version": 3
      },
      "file_extension": ".py",
      "mimetype": "text/x-python",
      "name": "python",
      "nbconvert_exporter": "python",
      "pygments_lexer": "ipython3",
      "version": "3.6.8"
    },
    "colab": {
      "name": "Logisitc Regression From Scratch.ipynb",
      "provenance": [],
      "collapsed_sections": [],
      "toc_visible": true
    }
  },
  "cells": [
    {
      "cell_type": "markdown",
      "metadata": {
        "id": "kyi328yuIkRt",
        "colab_type": "text"
      },
      "source": [
        "**Library**"
      ]
    },
    {
      "cell_type": "code",
      "metadata": {
        "id": "oL6u7MeZEW-7",
        "colab_type": "code",
        "colab": {}
      },
      "source": [
        "import pandas as pd\n",
        "import os\n",
        "import csv\n",
        "import numpy as np\n",
        "import matplotlib.pyplot as plt\n",
        "os.chdir(r\"/content/\")"
      ],
      "execution_count": 0,
      "outputs": []
    },
    {
      "cell_type": "markdown",
      "metadata": {
        "id": "86r4KuVxItZG",
        "colab_type": "text"
      },
      "source": [
        "**Data Preparation**"
      ]
    },
    {
      "cell_type": "code",
      "metadata": {
        "id": "ILcb1TvmEW_C",
        "colab_type": "code",
        "colab": {}
      },
      "source": [
        "# Analyszing the dataset\n",
        "#1.Shape of the dataset\n",
        "#2.Missing values of the dataset\n",
        "#3.Class distribution of target\n",
        "#Convert dataframe into vectors\n",
        "df = pd.read_csv('data_banknote_authentication.csv')\n",
        "\n",
        "def data_preparation(df):\n",
        "    X = df.drop(columns=['class']).values\n",
        "    Y = df['class'].values.reshape(-1,1)\n",
        "    print(df.head(),\n",
        "      \"\\n\",\"\\n\",'Shape of the dataset' + str(df.shape)\n",
        "      ,\"\\n\",\"\\n\",'Missing values in the dataset ' \n",
        "      ,\"\\n\",str(df.isnull().sum())\n",
        "      ,\"\\n\",\"\\n\",'Class distribution of target '\n",
        "      ,\"\\n\",df['class'].value_counts()\n",
        "      ,\"\\n\",\"\\n\",'X shape',df.drop(columns=['class']).shape\n",
        "      ,\"\\n\",\"\\n\",'Y shape',df['class'].shape\n",
        "      ,\"\\n\",\"\\n\",'X vector shape and values'\n",
        "      ,\"\\n\",\"\\n\",X.shape\n",
        "      ,\"\\n\",X\n",
        "      ,\"\\n\",\"\\n\"'Y vector shape and values'\n",
        "      ,\"\\n\",\"\\n\",Y.shape\n",
        "      ,\"\\n\",Y)\n",
        "     \n",
        "    Data = {'X':X,\n",
        "            'Y':Y}\n",
        "    return Data"
      ],
      "execution_count": 0,
      "outputs": []
    },
    {
      "cell_type": "code",
      "metadata": {
        "id": "PJo8DBVIEW_H",
        "colab_type": "code",
        "outputId": "5eeb98f4-2289-4b77-b78c-6e4516ecc1f3",
        "colab": {
          "base_uri": "https://localhost:8080/",
          "height": 852
        }
      },
      "source": [
        "data = data_preparation(df)"
      ],
      "execution_count": 5,
      "outputs": [
        {
          "output_type": "stream",
          "text": [
            "   variance  skewness  kurtosis  entropy  class\n",
            "0   3.62160    8.6661   -2.8073 -0.44699      0\n",
            "1   4.54590    8.1674   -2.4586 -1.46210      0\n",
            "2   3.86600   -2.6383    1.9242  0.10645      0\n",
            "3   3.45660    9.5228   -4.0112 -3.59440      0\n",
            "4   0.32924   -4.4552    4.5718 -0.98880      0 \n",
            " \n",
            " Shape of the dataset(1372, 5) \n",
            " \n",
            " Missing values in the dataset  \n",
            " variance    0\n",
            "skewness    0\n",
            "kurtosis    0\n",
            "entropy     0\n",
            "class       0\n",
            "dtype: int64 \n",
            " \n",
            " Class distribution of target  \n",
            " 0    762\n",
            "1    610\n",
            "Name: class, dtype: int64 \n",
            " \n",
            " X shape (1372, 4) \n",
            " \n",
            " Y shape (1372,) \n",
            " \n",
            " X vector shape and values \n",
            " \n",
            " (1372, 4) \n",
            " [[  3.6216    8.6661   -2.8073   -0.44699]\n",
            " [  4.5459    8.1674   -2.4586   -1.4621 ]\n",
            " [  3.866    -2.6383    1.9242    0.10645]\n",
            " ...\n",
            " [ -3.7503  -13.4586   17.5932   -2.7771 ]\n",
            " [ -3.5637   -8.3827   12.393    -1.2823 ]\n",
            " [ -2.5419   -0.65804   2.6842    1.1952 ]] \n",
            " \n",
            "Y vector shape and values \n",
            " \n",
            " (1372, 1) \n",
            " [[0]\n",
            " [0]\n",
            " [0]\n",
            " ...\n",
            " [1]\n",
            " [1]\n",
            " [1]]\n"
          ],
          "name": "stdout"
        }
      ]
    },
    {
      "cell_type": "markdown",
      "metadata": {
        "id": "xlaEcgUuJDa1",
        "colab_type": "text"
      },
      "source": [
        "**Train & Test dataset**"
      ]
    },
    {
      "cell_type": "code",
      "metadata": {
        "id": "CP47uqMbEW_O",
        "colab_type": "code",
        "colab": {}
      },
      "source": [
        "#diving the dataset into train & test\n",
        "#Creating a random stratified sample \n",
        "#such that proportion of Y remains the\n",
        "#same in train and test\n",
        "def train_test_split(X,Y,split):\n",
        "    N = len(df)\n",
        "    sample = int(split*N)\n",
        "    train_idx = np.random.choice(N, sample)\n",
        "    Xtrain = X[train_idx]\n",
        "    Ytrain = Y[train_idx]\n",
        "\n",
        "    test_idx = [idx for idx in range(N) if idx not in train_idx]\n",
        "    Xtest = X[test_idx]\n",
        "    Ytest = Y[test_idx]\n",
        "    \n",
        "    train_test = {'X_train':Xtrain,\n",
        "                  'Y_train':Ytrain,\n",
        "                  'X_test':Xtest,\n",
        "                  'Y_test':Ytest}\n",
        "    return train_test"
      ],
      "execution_count": 0,
      "outputs": []
    },
    {
      "cell_type": "code",
      "metadata": {
        "id": "JWH5m0AhEW_T",
        "colab_type": "code",
        "outputId": "f29ebe7f-9c89-45a5-c7cf-1a2d8e48ce13",
        "colab": {
          "base_uri": "https://localhost:8080/",
          "height": 88
        }
      },
      "source": [
        "train_test= train_test_split(data['X'],data['Y'],0.7)\n",
        "y_test = train_test['Y_test']\n",
        "y_train = train_test['Y_train']\n",
        "x_train = train_test['X_train']\n",
        "x_test = train_test['X_test']\n",
        "print('Distribution in Y train ',\n",
        "      \"\\n\",np.unique(y_train,return_counts=True)[1]*100/len(y_train),\n",
        "      \"\\n\",'Distribution in Y test '\n",
        "      \"\\n\",np.unique(y_test,return_counts=True)[1]*100/len(y_test))"
      ],
      "execution_count": 7,
      "outputs": [
        {
          "output_type": "stream",
          "text": [
            "Distribution in Y train  \n",
            " [55.72916667 44.27083333] \n",
            " Distribution in Y test \n",
            " [55.57206538 44.42793462]\n"
          ],
          "name": "stdout"
        }
      ]
    },
    {
      "cell_type": "markdown",
      "metadata": {
        "id": "9XLg29FCJIeK",
        "colab_type": "text"
      },
      "source": [
        "**Data Standardization**"
      ]
    },
    {
      "cell_type": "code",
      "metadata": {
        "id": "1XPBIqAEEW_Z",
        "colab_type": "code",
        "colab": {}
      },
      "source": [
        "#Standardizing the data\n",
        "#X_standard = X - mean(X)/std(X)\n",
        "#Mean will be 0 and std of 1\n",
        "#Distribution will be bet(-1,1)\n",
        "\n",
        "def standardization(X,x_train):\n",
        "    X = X-np.mean(x_train,axis=0)\n",
        "    X_standard = X/np.std(x_train,axis=0)\n",
        "    \n",
        "    return X_standard"
      ],
      "execution_count": 0,
      "outputs": []
    },
    {
      "cell_type": "code",
      "metadata": {
        "id": "ljjB8trVEW_j",
        "colab_type": "code",
        "outputId": "49d31cbc-5911-47cc-9f7f-8fc9fa0d1753",
        "colab": {
          "base_uri": "https://localhost:8080/",
          "height": 159
        }
      },
      "source": [
        "X_train_std = standardization(x_train,x_train)\n",
        "X_test_std = standardization(x_test,x_train)\n",
        "print('Mean of standardized train data',\n",
        "      \"\\n\",X_train_std.mean(),\n",
        "      \"\\n\",'Std of standardized train data',\n",
        "      \"\\n\",X_train_std.std(),\n",
        "      \"\\n\",'Mean of standardized test data',\n",
        "      \"\\n\",X_test_std.mean(),\n",
        "      \"\\n\",'Std of standardized test data',\n",
        "      \"\\n\",X_test_std.std())"
      ],
      "execution_count": 9,
      "outputs": [
        {
          "output_type": "stream",
          "text": [
            "Mean of standardized train data \n",
            " 8.419191270074103e-17 \n",
            " Std of standardized train data \n",
            " 1.0000000000000002 \n",
            " Mean of standardized test data \n",
            " -0.019220794076425452 \n",
            " Std of standardized test data \n",
            " 0.9778527600134096\n"
          ],
          "name": "stdout"
        }
      ]
    },
    {
      "cell_type": "code",
      "metadata": {
        "id": "FKj8VJV-EW_q",
        "colab_type": "code",
        "outputId": "287a84af-2af2-4ea3-e889-705880901cc2",
        "colab": {
          "base_uri": "https://localhost:8080/",
          "height": 514
        }
      },
      "source": [
        "fig, ax = plt.subplots(2, 2, figsize=(10, 7))\n",
        "ax[0,0].plot(X_train_std[:,0],color='red')\n",
        "ax[0,0].set_title('Variance')\n",
        "ax[0,1].plot(X_train_std[:,1],color='blue')\n",
        "ax[0,1].set_title('Skewness')\n",
        "ax[1,0].plot(X_train_std[:,2],color='green')\n",
        "ax[1,0].set_title('Kurtosis')\n",
        "ax[1,1].plot(X_train_std[:,3],color='orange')\n",
        "ax[1,1].set_title('Entropy')\n",
        "fig.suptitle('Distribution of Train Features')\n",
        "fig.tight_layout(rect=[0,0,1,0.96])"
      ],
      "execution_count": 10,
      "outputs": [
        {
          "output_type": "display_data",
          "data": {
            "image/png": "[encoded data removed]",
            "text/plain": [
              "<Figure size 720x504 with 4 Axes>"
            ]
          },
          "metadata": {
            "tags": []
          }
        }
      ]
    },
    {
      "cell_type": "markdown",
      "metadata": {
        "id": "wR-OSd_lJOse",
        "colab_type": "text"
      },
      "source": [
        "**Data reshaping**"
      ]
    },
    {
      "cell_type": "code",
      "metadata": {
        "id": "rPyZ5VXlEW_w",
        "colab_type": "code",
        "colab": {}
      },
      "source": [
        "#Reshaping the data into features X columns\n",
        "#dot product : W.X(Transpose)\n",
        "#X.reshape = X.Transpose\n",
        "#Y.reshape = Y.Transpose\n",
        "def reshape_data(X,Y):\n",
        "    X =X.T\n",
        "    Y =Y.reshape(-1,1).T\n",
        "    return X,Y"
      ],
      "execution_count": 0,
      "outputs": []
    },
    {
      "cell_type": "code",
      "metadata": {
        "id": "MErgND5qEW_1",
        "colab_type": "code",
        "outputId": "81e222e8-04ae-4ed5-e6b4-972853084966",
        "colab": {
          "base_uri": "https://localhost:8080/",
          "height": 106
        }
      },
      "source": [
        "x_train_t, y_train_t = reshape_data(X_train_std,y_train)\n",
        "x_test_t, y_test_t = reshape_data(X_test_std,y_test)\n",
        "print('Shape of X Train and X test'\n",
        "     ,\"\\n\",x_train_t.shape,x_test_t.shape\n",
        "     ,\"\\n\",\"\\n\",'Shape of Y train and Y test'\n",
        "     ,\"\\n\",y_train_t.shape,y_test_t.shape)"
      ],
      "execution_count": 12,
      "outputs": [
        {
          "output_type": "stream",
          "text": [
            "Shape of X Train and X test \n",
            " (4, 960) (4, 673) \n",
            " \n",
            " Shape of Y train and Y test \n",
            " (1, 960) (1, 673)\n"
          ],
          "name": "stdout"
        }
      ]
    },
    {
      "cell_type": "markdown",
      "metadata": {
        "id": "4rnbBNDlJTQf",
        "colab_type": "text"
      },
      "source": [
        "# **Logistic Function**\n",
        "**Following are the steps of creating a logistic function**\n",
        "###### *Sigmoid Function*\n",
        "###### *Weight & Bias initialization*\n",
        "###### *Propogation*\n",
        "###### *Optimization*\n",
        "###### *Weight Update*\n"
      ]
    },
    {
      "cell_type": "code",
      "metadata": {
        "id": "VVMDIHWZEW_6",
        "colab_type": "code",
        "colab": {}
      },
      "source": [
        "#Creating a sigmoid function\n",
        "#Sigmoid  = 1/(1+e^(-z))\n",
        "def sigmoid(z):\n",
        "    s=1/(1+np.exp(-z))\n",
        "    return s\n",
        "\n",
        "#Parameter (Betas, bias) intialization\n",
        "def initialize_parameter(dim):\n",
        "    weight = np.zeros(shape=(dim,1))\n",
        "    bias = 0\n",
        "    return weight,bias"
      ],
      "execution_count": 0,
      "outputs": []
    },
    {
      "cell_type": "code",
      "metadata": {
        "id": "0Nw98idmEW__",
        "colab_type": "code",
        "outputId": "e8e108c0-9c10-4136-c380-9ceb003cc183",
        "colab": {
          "base_uri": "https://localhost:8080/",
          "height": 106
        }
      },
      "source": [
        "weight,bias =initialize_parameter(x_train_t.shape[0])\n",
        "print('Initialized value of weight and bias for traiing',\n",
        "     \"\\n\",weight,bias)"
      ],
      "execution_count": 14,
      "outputs": [
        {
          "output_type": "stream",
          "text": [
            "Initialized value of weight and bias for traiing \n",
            " [[0.]\n",
            " [0.]\n",
            " [0.]\n",
            " [0.]] 0\n"
          ],
          "name": "stdout"
        }
      ]
    },
    {
      "cell_type": "code",
      "metadata": {
        "id": "_SOq2NFGEXAE",
        "colab_type": "code",
        "colab": {}
      },
      "source": [
        "#Creating a forward propogation\n",
        "#Calculating Loss: Average(y*log(p) + (1-y)*log(1-p))\n",
        "#Caculate gradient for weight &bias\n",
        "\n",
        "def propagation(weight,bias,X,Y,regularization,lambda_val):\n",
        "  if regularization ==False:\n",
        "    #def propagation_without(weight,bias,X,Y):\n",
        "    #Forward propagation\n",
        "    A = sigmoid(np.dot(weight.T,X)+bias)\n",
        "    np.seterr(divide = 'ignore')\n",
        "    cost = (-1/X.shape[1])*np.sum(Y*np.log(A) + (1-Y)*np.log(1-A)) \n",
        "    \n",
        "    #Backward propagation\n",
        "    dw = (1/X.shape[1])*np.dot(X,(A-Y).T)\n",
        "    db = (1/X.shape[1])*np.sum(A-Y)\n",
        "    print('No regularization is used')\n",
        "    grad ={'dw':dw,\n",
        "           'db':db}\n",
        "\n",
        "    return grad,cost,A\n",
        "    \n",
        "  elif regularization == 'L1':\n",
        "    #def propagation_with_l1:\n",
        "    #Forward propagation\n",
        "    A = sigmoid(np.dot(weight.T,X)+bias)\n",
        "    np.seterr(divide = 'ignore')\n",
        "    cost = (-1/X.shape[1])*np.sum(Y*np.log(A) + (1-Y)*np.log(1-A)) + (lambda_val/(X.shape[1]))*np.sum(abs(weight))\n",
        "    \n",
        "    #Backward propagation\n",
        "    if weight>0:\n",
        "      dw = (2/X.shape[1])*np.dot(X,(A-Y).T)+ lambda_val\n",
        "    else:\n",
        "      dw = (2/X.shape[1])*np.dot(X,(A-Y).T)- lambda_val\n",
        "\n",
        "    db = (1/X.shape[1])*np.sum(A-Y)\n",
        "    print('L1 regularization is used with Lambda value :'+str(lambda_val))\n",
        "    grad ={'dw':dw,\n",
        "           'db':db}\n",
        "    \n",
        "    return grad,cost,A\n",
        "  elif regularization == 'L2':\n",
        "    #def propagation_with_l2:\n",
        "    #Forward propagation\n",
        "    A = sigmoid(np.dot(weight.T,X)+bias)\n",
        "    np.seterr(divide = 'ignore')\n",
        "    cost = (-1/X.shape[1])*np.sum(Y*np.log(A) + (1-Y)*np.log(1-A)) + (lambda_val/(X.shape[1]))*np.sum(abs(weight))\n",
        "    \n",
        "    #Backward propagation\n",
        "    #dw = (1/X.shape[1])*np.dot(X,(A-Y).T)+ (lambda_val/(2*X.shape[1]))* weight\n",
        "    dw = (2/X.shape[1])*np.dot(X,(A-Y).T)+ (2*lambda_val/(X.shape[1]))* weight\n",
        "    db = (1/X.shape[1])*np.sum(A-Y)\n",
        "    \n",
        "    grad ={'dw':dw,\n",
        "           'db':db}\n",
        "           \n",
        "    return grad,cost,A\n",
        "    "
      ],
      "execution_count": 0,
      "outputs": []
    },
    {
      "cell_type": "code",
      "metadata": {
        "id": "WeMfi5SUEXAI",
        "colab_type": "code",
        "colab": {}
      },
      "source": [
        "#Optimize weight & bias using gradient\n",
        "#Reach to local minima with learning rate\n",
        "#update the weights and bais with iteration\n",
        "def optimization(weight,bias,X,Y,iterations,learning_rate,regularization,lambda_val):\n",
        "    cost_list =[]\n",
        "    for i in range(1,iterations):\n",
        "        \n",
        "        grad,cost,A = propagation(weight,bias,X,Y,regularization,lambda_val)\n",
        "        dw = grad['dw']\n",
        "        db = grad['db']\n",
        "        weight = weight - learning_rate*dw\n",
        "        bias = bias - learning_rate*db\n",
        "        \n",
        "        # Record the costs\n",
        "        if i % 100 == 0:\n",
        "            cost_list.append(cost)\n",
        "            \n",
        "        #print('for loop '+str(i),cost)\n",
        "        #print(weight[0])\n",
        "        \n",
        "    # return grad and parameters\n",
        "    new_parameters = {'new_weight':weight,\n",
        "                      'new_bias':bias}\n",
        "    \n",
        "    new_gradient = {'dw_new':dw,\n",
        "                    'db_new':db}\n",
        "    \n",
        "    return new_parameters,new_gradient,cost_list"
      ],
      "execution_count": 0,
      "outputs": []
    },
    {
      "cell_type": "markdown",
      "metadata": {
        "id": "GwwtHYPCKb3d",
        "colab_type": "text"
      },
      "source": [
        "**Logisitic Fit Function**"
      ]
    },
    {
      "cell_type": "code",
      "metadata": {
        "id": "6Ce0mnUmEXAN",
        "colab_type": "code",
        "colab": {}
      },
      "source": [
        "def logistic_function_fit(X,Y,weight,bias,iterations=100,learning_rate=0.05,regularization=False,lambda_val=0.5):\n",
        "    new_parameters,new_gradient,cost_list = optimization(weight,bias,X,Y,iterations,learning_rate,regularization,lambda_val)\n",
        "    return new_parameters,cost_list"
      ],
      "execution_count": 0,
      "outputs": []
    },
    {
      "cell_type": "code",
      "metadata": {
        "scrolled": true,
        "id": "dU0qg4onEXAX",
        "colab_type": "code",
        "outputId": "2f31c8aa-6efa-49cf-d035-8b1a6e87b6be",
        "colab": {
          "base_uri": "https://localhost:8080/",
          "height": 265
        }
      },
      "source": [
        "learning_rates=[0.5,0.1,0.05,0.01,0.005,0.001]\n",
        "for i in learning_rates:\n",
        "    new_perameters,cost_list = logistic_function_fit(x_train_t,y_train_t,weight,bias,iterations=5000,learning_rate=i,regularization ='L2',lambda_val=0.05)\n",
        "    plt.plot(np.squeeze(cost_list));\n"
      ],
      "execution_count": 18,
      "outputs": [
        {
          "output_type": "display_data",
          "data": {
            "image/png": "[encoded data removed]",
            "text/plain": [
              "<Figure size 432x288 with 1 Axes>"
            ]
          },
          "metadata": {
            "tags": []
          }
        }
      ]
    },
    {
      "cell_type": "code",
      "metadata": {
        "id": "Pn1YlFo2HnMJ",
        "colab_type": "code",
        "colab": {}
      },
      "source": [
        "new_perameters,cost_list = logistic_function_fit(x_train_t,y_train_t,weight,bias,iterations=2000,learning_rate=0.5,regularization ='L2',lambda_val=0.05)"
      ],
      "execution_count": 0,
      "outputs": []
    },
    {
      "cell_type": "markdown",
      "metadata": {
        "id": "uPFfHi-5Kho6",
        "colab_type": "text"
      },
      "source": [
        "**Logistic Prediction Function**"
      ]
    },
    {
      "cell_type": "code",
      "metadata": {
        "id": "HmTSZ7_AEXAg",
        "colab_type": "code",
        "colab": {}
      },
      "source": [
        "def logistic_function_predict(X,Y,new_parameters,regularization,lambda_val):\n",
        "    weight = new_parameters['new_weight']\n",
        "    bias = new_parameters['new_bias']\n",
        "    grad,cost,A =propagation(weight,bias,X,Y,regularization,lambda_val)\n",
        "    \n",
        "    list_pred=np.zeros((1,A.shape[1]))\n",
        "    for i in range(A.shape[1]):\n",
        "        if A[0,i] > 0.5:\n",
        "            list_pred[0,i] =1\n",
        "        else:\n",
        "            list_pred[0,i] =0\n",
        "\n",
        "    print(weight,bias)\n",
        "    return list_pred"
      ],
      "execution_count": 0,
      "outputs": []
    },
    {
      "cell_type": "code",
      "metadata": {
        "id": "NLcSl6ZKEXAk",
        "colab_type": "code",
        "colab": {
          "base_uri": "https://localhost:8080/",
          "height": 604
        },
        "outputId": "512a582a-be1e-4053-f342-77209845b3e2"
      },
      "source": [
        "pred=logistic_function_predict(x_test_t,y_test_t,new_perameters,regularization ='L2',lambda_val=0.05)\n",
        "print(pred)"
      ],
      "execution_count": 25,
      "outputs": [
        {
          "output_type": "stream",
          "text": [
            "[[-7.08101551]\n",
            " [-7.0721679 ]\n",
            " [-6.37972479]\n",
            " [ 0.35842437]] -2.8073911738620243\n",
            "[[0. 0. 0. 0. 0. 0. 0. 0. 0. 0. 0. 0. 0. 0. 0. 0. 0. 0. 0. 0. 0. 0. 0. 0.\n",
            "  0. 0. 0. 0. 0. 0. 0. 0. 0. 0. 0. 0. 0. 0. 0. 0. 0. 0. 0. 0. 0. 0. 0. 0.\n",
            "  0. 0. 0. 0. 0. 0. 0. 0. 0. 0. 0. 0. 0. 0. 0. 0. 0. 0. 1. 0. 0. 0. 0. 0.\n",
            "  0. 0. 0. 0. 0. 0. 0. 0. 0. 0. 0. 0. 0. 0. 0. 0. 0. 0. 0. 0. 0. 1. 0. 0.\n",
            "  0. 0. 0. 0. 0. 0. 0. 0. 0. 0. 0. 0. 0. 0. 0. 0. 0. 0. 0. 0. 0. 0. 0. 0.\n",
            "  0. 1. 0. 0. 0. 0. 0. 0. 0. 0. 0. 0. 0. 0. 0. 0. 0. 0. 0. 0. 0. 0. 0. 0.\n",
            "  0. 0. 0. 1. 0. 0. 0. 0. 0. 0. 0. 0. 1. 0. 1. 0. 0. 0. 0. 0. 0. 0. 0. 0.\n",
            "  0. 0. 0. 0. 1. 0. 0. 0. 0. 0. 0. 0. 0. 0. 0. 0. 0. 0. 0. 0. 0. 0. 0. 0.\n",
            "  0. 0. 0. 0. 0. 1. 0. 0. 0. 0. 0. 0. 0. 0. 0. 0. 0. 0. 0. 0. 1. 0. 0. 0.\n",
            "  0. 0. 0. 0. 0. 0. 0. 0. 0. 0. 0. 0. 0. 0. 0. 0. 0. 0. 0. 0. 0. 0. 0. 0.\n",
            "  0. 0. 0. 0. 0. 0. 0. 0. 0. 0. 0. 0. 0. 0. 0. 0. 0. 0. 0. 0. 0. 0. 0. 0.\n",
            "  0. 0. 0. 0. 0. 0. 0. 0. 0. 0. 0. 0. 0. 0. 0. 0. 0. 0. 0. 0. 0. 0. 0. 0.\n",
            "  0. 0. 0. 0. 0. 0. 0. 0. 0. 0. 0. 0. 0. 0. 0. 0. 0. 0. 0. 0. 0. 0. 0. 0.\n",
            "  0. 0. 0. 0. 0. 0. 0. 0. 0. 0. 0. 0. 0. 0. 0. 0. 0. 0. 0. 0. 0. 0. 0. 0.\n",
            "  0. 0. 0. 0. 0. 0. 0. 0. 0. 0. 0. 0. 0. 0. 0. 0. 0. 0. 0. 0. 0. 0. 0. 0.\n",
            "  0. 1. 0. 0. 0. 0. 0. 0. 0. 0. 0. 0. 0. 0. 1. 1. 1. 1. 1. 1. 1. 1. 1. 1.\n",
            "  1. 1. 1. 1. 1. 1. 1. 1. 1. 1. 1. 1. 1. 1. 1. 1. 1. 1. 1. 1. 1. 1. 1. 1.\n",
            "  1. 1. 1. 1. 1. 1. 1. 1. 1. 1. 1. 1. 1. 1. 1. 1. 1. 1. 1. 1. 1. 1. 1. 1.\n",
            "  1. 1. 1. 1. 1. 1. 1. 1. 1. 1. 1. 1. 1. 1. 1. 1. 1. 1. 1. 1. 1. 1. 1. 1.\n",
            "  1. 0. 1. 1. 1. 1. 1. 1. 1. 1. 1. 1. 1. 1. 1. 1. 1. 1. 1. 1. 1. 1. 1. 1.\n",
            "  1. 1. 1. 1. 1. 1. 1. 1. 1. 1. 1. 1. 1. 1. 1. 1. 1. 1. 1. 1. 1. 1. 1. 1.\n",
            "  1. 1. 1. 1. 1. 1. 1. 1. 1. 1. 1. 1. 1. 1. 1. 1. 1. 1. 1. 1. 1. 1. 1. 1.\n",
            "  1. 1. 1. 1. 1. 1. 1. 0. 1. 1. 1. 1. 1. 1. 1. 1. 1. 1. 1. 1. 1. 1. 1. 1.\n",
            "  1. 1. 1. 1. 1. 1. 1. 1. 1. 1. 1. 1. 1. 1. 1. 1. 1. 1. 1. 1. 1. 1. 1. 1.\n",
            "  1. 1. 1. 1. 1. 1. 1. 1. 1. 1. 1. 1. 1. 1. 1. 1. 1. 1. 1. 1. 1. 1. 1. 1.\n",
            "  1. 1. 1. 1. 1. 1. 1. 1. 1. 1. 1. 1. 1. 1. 1. 1. 1. 1. 1. 1. 1. 1. 1. 1.\n",
            "  1. 1. 1. 1. 1. 1. 1. 1. 1. 1. 1. 1. 1. 1. 1. 1. 1. 1. 1. 1. 1. 1. 1. 1.\n",
            "  1. 1. 1. 1. 1. 1. 1. 1. 1. 1. 1. 0. 1. 1. 1. 1. 1. 1. 1. 1. 1. 1. 1. 1.\n",
            "  1.]]\n"
          ],
          "name": "stdout"
        }
      ]
    },
    {
      "cell_type": "markdown",
      "metadata": {
        "id": "jeZwiTPaKso1",
        "colab_type": "text"
      },
      "source": [
        "**Accuracy**"
      ]
    },
    {
      "cell_type": "code",
      "metadata": {
        "id": "27_s1oTjEXAp",
        "colab_type": "code",
        "colab": {
          "base_uri": "https://localhost:8080/",
          "height": 35
        },
        "outputId": "5dc0a52c-0a6d-4c42-d24f-3cb332f50241"
      },
      "source": [
        "print(\"test accuracy: {} %\".format(100 - np.mean(np.abs(pred - y_test_t)) * 100))"
      ],
      "execution_count": 26,
      "outputs": [
        {
          "output_type": "stream",
          "text": [
            "test accuracy: 98.06835066864785 %\n"
          ],
          "name": "stdout"
        }
      ]
    }
  ]
}